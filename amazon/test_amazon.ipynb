{
 "cells": [
  {
   "cell_type": "code",
   "execution_count": 1,
   "metadata": {
    "collapsed": true
   },
   "outputs": [],
   "source": [
    "import caffe\n",
    "import numpy as np\n",
    "import os\n",
    "caffe.set_mode_gpu()\n"
   ]
  },
  {
   "cell_type": "code",
   "execution_count": 2,
   "metadata": {
    "collapsed": true
   },
   "outputs": [],
   "source": [
    "test=file('/home/zzq/kaggle/amazon/test_list','a+')\n",
    "for i in range(40669):\n",
    "    test.write('test_'+str(i)+'.jpg'+'\\n')\n",
    "test.close()\n"
   ]
  },
  {
   "cell_type": "code",
   "execution_count": 6,
   "metadata": {
    "collapsed": false
   },
   "outputs": [],
   "source": [
    "labels=open('/home/zzq/kaggle/amazon/12_class').readlines()\n",
    "label=[]\n",
    "for i in range(len(labels)):\n",
    "    lin=labels[i].strip('\\n')\n",
    "    label.append(lin)"
   ]
  },
  {
   "cell_type": "code",
   "execution_count": 13,
   "metadata": {
    "collapsed": false
   },
   "outputs": [],
   "source": [
    "list_index=[]\n",
    "if os.path.isfile('/home/zzq/result/amazon/result.csv'):\n",
    "    os.remove('/home/zzq/result/amazon/result.csv')\n",
    "net=caffe.Net('/home/zzq/caffe/models/bvlc_googlenet/deploy.prototxt',\n",
    "             '/home/zzq/caffe/models/bvlc_googlenet/bvlc_googlenet_iter_10000.caffemodel',\n",
    "             caffe.TEST)\n",
    "out=file('/home/zzq/result/amazon/result.csv','a+')\n",
    "out.write('image_name,tags'+'\\n')\n",
    "out.close()\n",
    "root='/home/zzq/kaggle/amazon/test-jpg/'\n",
    "images=open('/home/zzq/kaggle/amazon/test_list').readlines()\n",
    "for i in range(len(images)):\n",
    "    lin=images[i].strip('\\n')\n",
    "    img=root+lin\n",
    "    transformer = caffe.io.Transformer({'data': net.blobs['data'].data.shape})  #设定图片的shape格式(1,3,28,28)\n",
    "    transformer.set_transpose('data', (2,0,1))    #改变维度的顺序，由原始图片(28,28,3)变为(3,28,28)\n",
    "    #transformer.set_mean('data', np.load(mean_file).mean(1).mean(1))    #减去均值，前面训练模型时没有减均值，这儿就不用\n",
    "    transformer.set_raw_scale('data', 255)    # 缩放到【0，255】之间\n",
    "    transformer.set_channel_swap('data', (2,1,0))   #交换通道，将图片由RGB变为BGR\n",
    "    im=caffe.io.load_image(img) \n",
    "    #net.blobs['data'].data[...] = transformer.preprocess('data',im) \n",
    "    #print lines[i]\n",
    "    #net.blobs['data']=im\n",
    "    net.blobs['data'].data[...] = transformer.preprocess('data',im) \n",
    "    out=net.forward()\n",
    "    prob=net.blobs['prob'].data[0].flatten()\n",
    "#     print type(prob)\n",
    "    index=np.argmax(prob)\n",
    "    list_index.append(index)\n",
    "    out=file('/home/zzq/result/amazon/result.csv','a+')\n",
    "    out.write('test_'+str(i)+','+label[index]+'\\n')\n",
    "    out.close()"
   ]
  },
  {
   "cell_type": "code",
   "execution_count": 18,
   "metadata": {
    "collapsed": false
   },
   "outputs": [
    {
     "name": "stdout",
     "output_type": "stream",
     "text": [
      "12\n"
     ]
    }
   ],
   "source": [
    "label_replace=[\"agriculture clear\",\n",
    "              \"artisinal_mine clear\",\n",
    "              \"bare_ground clear primary\",\n",
    "              \"blooming clear primary\",\n",
    "              \"blow_down clear primary\",\n",
    "              \"clear primary\",\n",
    "              \"cloudy\",\n",
    "              \"conventional_mine partly_cloudy\",\n",
    "              \"cultivation partly_cloudy primary\",\n",
    "              \"habitation partly_cloudy primary\",\n",
    "              \"haze primary\",\n",
    "              \"partly_cloudy primary\"]\n",
    "print len(label_replace)"
   ]
  },
  {
   "cell_type": "markdown",
   "metadata": {},
   "source": [
    "## replace的效果不好，只用12类的效果并不是很好"
   ]
  },
  {
   "cell_type": "code",
   "execution_count": 19,
   "metadata": {
    "collapsed": true
   },
   "outputs": [],
   "source": [
    "if os.path.isfile('/home/zzq/result/amazon/result_replace.csv'):\n",
    "    os.remove('/home/zzq/result/amazon/result_replace.csv')\n",
    "out=file('/home/zzq/result/amazon/result_replace.csv','a+')\n",
    "out.write('image_name,tags'+'\\n')\n",
    "out.close()\n",
    "for i in range(len(images)):\n",
    "    out=file('/home/zzq/result/amazon/result_replace.csv','a+')\n",
    "    out.write('test_'+str(i)+','+label_replace[list_index[i]]+'\\n')\n",
    "    out.close()\n",
    "    "
   ]
  },
  {
   "cell_type": "markdown",
   "metadata": {},
   "source": [
    "## 这里是在使用458类来作为分类数据"
   ]
  },
  {
   "cell_type": "code",
   "execution_count": 22,
   "metadata": {
    "collapsed": false
   },
   "outputs": [
    {
     "ename": "KeyboardInterrupt",
     "evalue": "",
     "output_type": "error",
     "traceback": [
      "\u001b[0;31m---------------------------------------------------------------------------\u001b[0m",
      "\u001b[0;31mKeyboardInterrupt\u001b[0m                         Traceback (most recent call last)",
      "\u001b[0;32m<ipython-input-22-780ec359d7b5>\u001b[0m in \u001b[0;36m<module>\u001b[0;34m()\u001b[0m\n\u001b[1;32m     27\u001b[0m     \u001b[0;31m#net.blobs['data']=im\u001b[0m\u001b[0;34m\u001b[0m\u001b[0;34m\u001b[0m\u001b[0m\n\u001b[1;32m     28\u001b[0m     \u001b[0mnet\u001b[0m\u001b[0;34m.\u001b[0m\u001b[0mblobs\u001b[0m\u001b[0;34m[\u001b[0m\u001b[0;34m'data'\u001b[0m\u001b[0;34m]\u001b[0m\u001b[0;34m.\u001b[0m\u001b[0mdata\u001b[0m\u001b[0;34m[\u001b[0m\u001b[0;34m.\u001b[0m\u001b[0;34m.\u001b[0m\u001b[0;34m.\u001b[0m\u001b[0;34m]\u001b[0m \u001b[0;34m=\u001b[0m \u001b[0mtransformer\u001b[0m\u001b[0;34m.\u001b[0m\u001b[0mpreprocess\u001b[0m\u001b[0;34m(\u001b[0m\u001b[0;34m'data'\u001b[0m\u001b[0;34m,\u001b[0m\u001b[0mim\u001b[0m\u001b[0;34m)\u001b[0m\u001b[0;34m\u001b[0m\u001b[0m\n\u001b[0;32m---> 29\u001b[0;31m     \u001b[0mout\u001b[0m\u001b[0;34m=\u001b[0m\u001b[0mnet\u001b[0m\u001b[0;34m.\u001b[0m\u001b[0mforward\u001b[0m\u001b[0;34m(\u001b[0m\u001b[0;34m)\u001b[0m\u001b[0;34m\u001b[0m\u001b[0m\n\u001b[0m\u001b[1;32m     30\u001b[0m     \u001b[0mprob\u001b[0m\u001b[0;34m=\u001b[0m\u001b[0mnet\u001b[0m\u001b[0;34m.\u001b[0m\u001b[0mblobs\u001b[0m\u001b[0;34m[\u001b[0m\u001b[0;34m'prob'\u001b[0m\u001b[0;34m]\u001b[0m\u001b[0;34m.\u001b[0m\u001b[0mdata\u001b[0m\u001b[0;34m[\u001b[0m\u001b[0;36m0\u001b[0m\u001b[0;34m]\u001b[0m\u001b[0;34m.\u001b[0m\u001b[0mflatten\u001b[0m\u001b[0;34m(\u001b[0m\u001b[0;34m)\u001b[0m\u001b[0;34m\u001b[0m\u001b[0m\n\u001b[1;32m     31\u001b[0m \u001b[0;31m#     print type(prob)\u001b[0m\u001b[0;34m\u001b[0m\u001b[0;34m\u001b[0m\u001b[0m\n",
      "\u001b[0;32m/home/zzq/caffe/python/caffe/pycaffe.pyc\u001b[0m in \u001b[0;36m_Net_forward\u001b[0;34m(self, blobs, start, end, **kwargs)\u001b[0m\n\u001b[1;32m    129\u001b[0m             \u001b[0mself\u001b[0m\u001b[0;34m.\u001b[0m\u001b[0mblobs\u001b[0m\u001b[0;34m[\u001b[0m\u001b[0min_\u001b[0m\u001b[0;34m]\u001b[0m\u001b[0;34m.\u001b[0m\u001b[0mdata\u001b[0m\u001b[0;34m[\u001b[0m\u001b[0;34m.\u001b[0m\u001b[0;34m.\u001b[0m\u001b[0;34m.\u001b[0m\u001b[0;34m]\u001b[0m \u001b[0;34m=\u001b[0m \u001b[0mblob\u001b[0m\u001b[0;34m\u001b[0m\u001b[0m\n\u001b[1;32m    130\u001b[0m \u001b[0;34m\u001b[0m\u001b[0m\n\u001b[0;32m--> 131\u001b[0;31m     \u001b[0mself\u001b[0m\u001b[0;34m.\u001b[0m\u001b[0m_forward\u001b[0m\u001b[0;34m(\u001b[0m\u001b[0mstart_ind\u001b[0m\u001b[0;34m,\u001b[0m \u001b[0mend_ind\u001b[0m\u001b[0;34m)\u001b[0m\u001b[0;34m\u001b[0m\u001b[0m\n\u001b[0m\u001b[1;32m    132\u001b[0m \u001b[0;34m\u001b[0m\u001b[0m\n\u001b[1;32m    133\u001b[0m     \u001b[0;31m# Unpack blobs to extract\u001b[0m\u001b[0;34m\u001b[0m\u001b[0;34m\u001b[0m\u001b[0m\n",
      "\u001b[0;31mKeyboardInterrupt\u001b[0m: "
     ]
    }
   ],
   "source": [
    "if os.path.isfile('/home/zzq/result/amazon/result_458.csv'):\n",
    "    os.remove('/home/zzq/result/amazon/result_458.csv')\n",
    "out=file('/home/zzq/result/amazon/result_458.csv','a+')\n",
    "out.write('image_name,tags'+'\\n')\n",
    "out.close()\n",
    "net=caffe.Net('/home/zzq/caffe/models/bvlc_googlenet/deploy_458.prototxt',\n",
    "             '/home/zzq/caffe/models/bvlc_googlenet/bvlc_googlenet_iter_400.caffemodel',\n",
    "             caffe.TEST)\n",
    "images=open('/home/zzq/kaggle/amazon/test_list').readlines()\n",
    "root='/home/zzq/kaggle/amazon/test-jpg/'\n",
    "label=[]\n",
    "labels=open('/home/zzq/kaggle/amazon/458_class').readlines()\n",
    "for i in range(len(labels)):\n",
    "    la=labels[i].strip('\\n')\n",
    "    label.append(la)\n",
    "for i in range(len(images)):\n",
    "    lin=images[i].strip('\\n')\n",
    "    img=root+lin\n",
    "    transformer = caffe.io.Transformer({'data': net.blobs['data'].data.shape})  #设定图片的shape格式(1,3,28,28)\n",
    "    transformer.set_transpose('data', (2,0,1))    #改变维度的顺序，由原始图片(28,28,3)变为(3,28,28)\n",
    "    #transformer.set_mean('data', np.load(mean_file).mean(1).mean(1))    #减去均值，前面训练模型时没有减均值，这儿就不用\n",
    "    transformer.set_raw_scale('data', 255)    # 缩放到【0，255】之间\n",
    "    transformer.set_channel_swap('data', (2,1,0))   #交换通道，将图片由RGB变为BGR\n",
    "    im=caffe.io.load_image(img) \n",
    "    #net.blobs['data'].data[...] = transformer.preprocess('data',im) \n",
    "    #print lines[i]\n",
    "    #net.blobs['data']=im\n",
    "    net.blobs['data'].data[...] = transformer.preprocess('data',im) \n",
    "    out=net.forward()\n",
    "    prob=net.blobs['prob'].data[0].flatten()\n",
    "#     print type(prob)\n",
    "    index=np.argmax(prob)\n",
    "    list_index.append(index)\n",
    "    out=file('/home/zzq/result/amazon/result_458.csv','a+')\n",
    "    out.write('test_'+str(i)+','+label[index]+'\\n')\n",
    "    out.close()"
   ]
  },
  {
   "cell_type": "code",
   "execution_count": null,
   "metadata": {
    "collapsed": true
   },
   "outputs": [],
   "source": []
  }
 ],
 "metadata": {
  "kernelspec": {
   "display_name": "Python 2",
   "language": "python",
   "name": "python2"
  },
  "language_info": {
   "codemirror_mode": {
    "name": "ipython",
    "version": 2
   },
   "file_extension": ".py",
   "mimetype": "text/x-python",
   "name": "python",
   "nbconvert_exporter": "python",
   "pygments_lexer": "ipython2",
   "version": "2.7.12"
  }
 },
 "nbformat": 4,
 "nbformat_minor": 2
}
