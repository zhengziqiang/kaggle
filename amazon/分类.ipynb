{
 "cells": [
  {
   "cell_type": "code",
   "execution_count": 7,
   "metadata": {
    "collapsed": false,
    "deletable": true,
    "editable": true
   },
   "outputs": [
    {
     "name": "stdout",
     "output_type": "stream",
     "text": [
      "40479\n"
     ]
    }
   ],
   "source": [
    "import os\n",
    "import shutil\n",
    "all_lines=open('/home/zzq/kaggle/amazon/demo.csv').readlines()\n",
    "print len(all_lines)"
   ]
  },
  {
   "cell_type": "code",
   "execution_count": 2,
   "metadata": {
    "collapsed": true,
    "deletable": true,
    "editable": true
   },
   "outputs": [],
   "source": [
    "for i in range(len(all_lines)):\n",
    "    out=file('/home/zzq/kaggle/amazon/cls','a+')\n",
    "    line=all_lines[i].strip('\\n')\n",
    "    lin=line.split(',')\n",
    "    out.write(lin[1]+'\\n')\n",
    "    out.close()"
   ]
  },
  {
   "cell_type": "code",
   "execution_count": 9,
   "metadata": {
    "collapsed": true,
    "deletable": true,
    "editable": true
   },
   "outputs": [],
   "source": [
    "root='/home/zzq/kaggle/amazon/12_cls/'\n",
    "cls=open('/home/zzq/kaggle/amazon/12_class').readlines()\n",
    "for i in range(len(cls)):\n",
    "    dir_=cls[i].strip('\\n')\n",
    "    path=root+dir_\n",
    "    os.mkdir(path)\n",
    "    "
   ]
  },
  {
   "cell_type": "code",
   "execution_count": 11,
   "metadata": {
    "collapsed": false,
    "deletable": true,
    "editable": true
   },
   "outputs": [],
   "source": [
    "dest='/home/zzq/kaggle/amazon/12_cls/'\n",
    "source='/home/zzq/kaggle/amazon/train-jpg/'\n",
    "my_cls=open('/home/zzq/kaggle/amazon/demo.csv').readlines()\n",
    "for i in range(len(my_cls)):\n",
    "    line=my_cls[i].strip('\\n')\n",
    "    lin=line.split(',')\n",
    "    img_name=lin[0]+'.jpg'\n",
    "    source_file=source+img_name\n",
    "    lin1=lin[1].split()\n",
    "    dest_file=dest+lin1[0]+'/'+img_name\n",
    "    shutil.copyfile(source_file,dest_file)\n",
    "    "
   ]
  },
  {
   "cell_type": "code",
   "execution_count": 12,
   "metadata": {
    "collapsed": false,
    "deletable": true,
    "editable": true
   },
   "outputs": [
    {
     "name": "stdout",
     "output_type": "stream",
     "text": [
      "{'algo': ['train']}\n"
     ]
    }
   ],
   "source": [
    "dic={}\n",
    "dic['algo']=[]\n",
    "dic['algo'].append('train')\n",
    "print dic"
   ]
  },
  {
   "cell_type": "code",
   "execution_count": 13,
   "metadata": {
    "collapsed": true,
    "deletable": true,
    "editable": true
   },
   "outputs": [],
   "source": [
    "dic.clear()"
   ]
  },
  {
   "cell_type": "code",
   "execution_count": 14,
   "metadata": {
    "collapsed": false,
    "deletable": true,
    "editable": true
   },
   "outputs": [
    {
     "name": "stdout",
     "output_type": "stream",
     "text": [
      "{}\n"
     ]
    }
   ],
   "source": [
    "print dic"
   ]
  },
  {
   "cell_type": "code",
   "execution_count": 16,
   "metadata": {
    "collapsed": false,
    "deletable": true,
    "editable": true
   },
   "outputs": [],
   "source": [
    "cls_12=open('/home/zzq/kaggle/amazon/12_class').readlines()\n",
    "for i in range(len(cls_12)):\n",
    "    line=cls_12[i].strip('\\n')\n",
    "    dic[line]=[]\n",
    "#     print line"
   ]
  },
  {
   "cell_type": "code",
   "execution_count": 17,
   "metadata": {
    "collapsed": false,
    "deletable": true,
    "editable": true
   },
   "outputs": [
    {
     "name": "stdout",
     "output_type": "stream",
     "text": [
      "{'cultivation': [], 'clear': [], 'habitation': [], 'conventional_mine': [], 'cloudy': [], 'haze': [], 'artisinal_mine': [], 'partly_cloudy': [], 'blooming': [], 'bare_ground': [], 'blow_down': [], 'agriculture': []}\n"
     ]
    }
   ],
   "source": [
    "print dic"
   ]
  },
  {
   "cell_type": "code",
   "execution_count": 18,
   "metadata": {
    "collapsed": true,
    "deletable": true,
    "editable": true
   },
   "outputs": [],
   "source": [
    "for i in range(len(my_cls)):\n",
    "    line=my_cls[i].strip('\\n')\n",
    "    lin=line.split(',')\n",
    "    lin1=lin[1].split()\n",
    "    dic[lin1[0]].append(lin[0])\n",
    "    "
   ]
  },
  {
   "cell_type": "code",
   "execution_count": 19,
   "metadata": {
    "collapsed": false,
    "deletable": true,
    "editable": true
   },
   "outputs": [
    {
     "name": "stdout",
     "output_type": "stream",
     "text": [
      "12\n"
     ]
    }
   ],
   "source": [
    "print len(dic)"
   ]
  },
  {
   "cell_type": "code",
   "execution_count": 22,
   "metadata": {
    "collapsed": false,
    "deletable": true,
    "editable": true
   },
   "outputs": [],
   "source": [
    "for i in range(len(cls_12)):\n",
    "    line=cls_12[i].strip('\\n')\n",
    "    name=dic[line]\n",
    "#     print len(name)\n",
    "    filename=dest+line+'/log'\n",
    "    if os.path.isfile(dest+line+'/log'):\n",
    "        os.remove(dest+line+'/log')\n",
    "    out=file(filename,'a+')\n",
    "    for j in range(len(name)):\n",
    "        out.write(name[j]+'\\n')\n",
    "    out.close()\n",
    "        \n",
    "    \n",
    "    \n",
    "    "
   ]
  },
  {
   "cell_type": "code",
   "execution_count": 25,
   "metadata": {
    "collapsed": true,
    "deletable": true,
    "editable": true
   },
   "outputs": [],
   "source": [
    "root='/home/zzq/kaggle/amazon/val/'\n",
    "cls=open('/home/zzq/kaggle/amazon/12_class').readlines()\n",
    "for i in range(len(cls)):\n",
    "    dir_=cls[i].strip('\\n')\n",
    "    path=root+dir_\n",
    "    os.mkdir(path)"
   ]
  },
  {
   "cell_type": "code",
   "execution_count": 27,
   "metadata": {
    "collapsed": false,
    "deletable": true,
    "editable": true
   },
   "outputs": [
    {
     "name": "stdout",
     "output_type": "stream",
     "text": [
      "[2, 3, 4, 1]\n"
     ]
    }
   ],
   "source": [
    "l=[1,2,3,4]\n",
    "random.shuffle(l)\n",
    "print l"
   ]
  },
  {
   "cell_type": "code",
   "execution_count": 10,
   "metadata": {
    "collapsed": false
   },
   "outputs": [
    {
     "name": "stdout",
     "output_type": "stream",
     "text": [
      "hello_world\n"
     ]
    }
   ],
   "source": [
    "a_=\"hello world\"\n",
    "b_=a_.replace(' ','_')\n",
    "print b_"
   ]
  },
  {
   "cell_type": "code",
   "execution_count": 28,
   "metadata": {
    "collapsed": false,
    "deletable": true,
    "editable": true
   },
   "outputs": [],
   "source": [
    "import random\n",
    "val_dest='/home/zzq/kaggle/amazon/val/'\n",
    "source='/home/zzq/kaggle/amazon/12_cls/'\n",
    "for i in range(len(cls_12)):\n",
    "    line=cls_12[i].strip('\\n')\n",
    "    name=dic[line]\n",
    "    random.shuffle(name)\n",
    "    n=int(len(name))/6\n",
    "    for j in range(n):\n",
    "        dest_file=val_dest+line+'/'+name[j]+'.jpg'\n",
    "        source_file=source+line+'/'+name[j]+'.jpg'\n",
    "        shutil.move(source_file,dest_file)\n",
    "    "
   ]
  },
  {
   "cell_type": "code",
   "execution_count": 17,
   "metadata": {
    "collapsed": false,
    "deletable": true,
    "editable": true
   },
   "outputs": [],
   "source": [
    "# dic.clear()\n",
    "import os\n",
    "root='/home/zzq/kaggle/amazon/458_cls/'\n",
    "cls=open('/home/zzq/kaggle/amazon/458_class').readlines()\n",
    "for i in range(len(cls)):\n",
    "    dir_=cls[i].strip('\\n')\n",
    "    n_dir=dir_.replace(' ','_')\n",
    "    path=root+n_dir\n",
    "    os.mkdir(path)"
   ]
  },
  {
   "cell_type": "code",
   "execution_count": 18,
   "metadata": {
    "collapsed": true
   },
   "outputs": [],
   "source": [
    "dic={}\n",
    "cls_458=open('/home/zzq/kaggle/amazon/458_class').readlines()\n",
    "for i in range(len(cls_458)):\n",
    "    line=cls_458[i].strip('\\n')\n",
    "    dic[line]=[]"
   ]
  },
  {
   "cell_type": "code",
   "execution_count": 19,
   "metadata": {
    "collapsed": true
   },
   "outputs": [],
   "source": [
    "my_cls=open('/home/zzq/kaggle/amazon/demo.csv').readlines()\n",
    "for i in range(len(my_cls)):\n",
    "    line=my_cls[i].strip('\\n')\n",
    "    lin=line.split(',')\n",
    "#     lin1=lin[1].split()\n",
    "    dic[lin[1]].append(lin[0])"
   ]
  },
  {
   "cell_type": "code",
   "execution_count": 20,
   "metadata": {
    "collapsed": false
   },
   "outputs": [],
   "source": [
    "import shutil\n",
    "dest='/home/zzq/kaggle/amazon/458_cls/'\n",
    "source='/home/zzq/kaggle/amazon/train-jpg/'\n",
    "my_cls=open('/home/zzq/kaggle/amazon/demo.csv').readlines()\n",
    "for i in range(len(my_cls)):\n",
    "    line=my_cls[i].strip('\\n')\n",
    "    lin=line.split(',')\n",
    "    img_name=lin[0]+'.jpg'\n",
    "    source_file=source+img_name\n",
    "#     lin1=lin[1].split()\n",
    "    n_dir=lin[1].replace(' ','_')\n",
    "    dest_file=dest+n_dir+'/'+img_name\n",
    "    shutil.copyfile(source_file,dest_file)"
   ]
  },
  {
   "cell_type": "code",
   "execution_count": 23,
   "metadata": {
    "collapsed": true
   },
   "outputs": [],
   "source": [
    "root='/home/zzq/kaggle/amazon/val/'\n",
    "cls=open('/home/zzq/kaggle/amazon/458_class').readlines()\n",
    "for i in range(len(cls)):\n",
    "    dir_=cls[i].strip('\\n')\n",
    "    n_dir=dir_.replace(' ','_')\n",
    "    path=root+n_dir\n",
    "    os.mkdir(path)"
   ]
  },
  {
   "cell_type": "code",
   "execution_count": 24,
   "metadata": {
    "collapsed": false
   },
   "outputs": [],
   "source": [
    "import random\n",
    "val_dest='/home/zzq/kaggle/amazon/val/'\n",
    "source='/home/zzq/kaggle/amazon/458_cls/'\n",
    "for i in range(len(cls_458)):\n",
    "    line=cls_458[i].strip('\\n')\n",
    "    name=dic[line]\n",
    "    random.shuffle(name)\n",
    "    n=int(len(name))/6\n",
    "    for j in range(n):\n",
    "        line_=line.replace(' ','_')\n",
    "        dest_file=val_dest+line_+'/'+name[j]+'.jpg'\n",
    "        source_file=source+line_+'/'+name[j]+'.jpg'\n",
    "        shutil.move(source_file,dest_file)"
   ]
  },
  {
   "cell_type": "code",
   "execution_count": null,
   "metadata": {
    "collapsed": true
   },
   "outputs": [],
   "source": []
  }
 ],
 "metadata": {
  "kernelspec": {
   "display_name": "Python 2",
   "language": "python",
   "name": "python2"
  },
  "language_info": {
   "codemirror_mode": {
    "name": "ipython",
    "version": 2
   },
   "file_extension": ".py",
   "mimetype": "text/x-python",
   "name": "python",
   "nbconvert_exporter": "python",
   "pygments_lexer": "ipython2",
   "version": "2.7.12"
  }
 },
 "nbformat": 4,
 "nbformat_minor": 2
}
