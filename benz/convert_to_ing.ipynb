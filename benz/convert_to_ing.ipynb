{
 "cells": [
  {
   "cell_type": "code",
   "execution_count": 4,
   "metadata": {
    "collapsed": true
   },
   "outputs": [
    {
     "name": "stdout",
     "output_type": "stream",
     "text": [
      "(4209, 376)\n"
     ]
    }
   ],
   "source": [
    "import Image\n",
    "from skimage import io,data\n",
    "import numpy as np\n",
    "data=np.genfromtxt(\"/home/zzq/kaggle/benz/feature\",delimiter=',')\n",
    "print data.shape"
   ]
  },
  {
   "cell_type": "code",
   "execution_count": 5,
   "metadata": {},
   "outputs": [
    {
     "name": "stdout",
     "output_type": "stream",
     "text": [
      "(4209, 400)\n"
     ]
    }
   ],
   "source": [
    "add_data=data[:,0:24]\n",
    "data_full=np.concatenate((data, add_data), axis=1)\n",
    "print data_full.shape"
   ]
  },
  {
   "cell_type": "code",
   "execution_count": 6,
   "metadata": {},
   "outputs": [],
   "source": [
    "label=np.genfromtxt(\"/home/zzq/kaggle/benz/y_label\",delimiter=\",\")"
   ]
  },
  {
   "cell_type": "code",
   "execution_count": 7,
   "metadata": {},
   "outputs": [],
   "source": [
    "dest='/home/zzq/kaggle/benz/imgs_s/'\n",
    "for i in range(4209):\n",
    "    im_data=data_full[i,:]\n",
    "    im_data=im_data.reshape(20,20)\n",
    "    # print im_data.shape\n",
    "    fig_name=dest+'figure'+str(i)+'.jpg'\n",
    "    for j in range(20):\n",
    "        for k in range(20):\n",
    "            im_data[j][k]*=256\n",
    "    new_im=Image.fromarray(im_data)\n",
    "    new_im=new_im.convert('L')\n",
    "    new_im.save(fig_name)"
   ]
  },
  {
   "cell_type": "code",
   "execution_count": null,
   "metadata": {},
   "outputs": [],
   "source": [
    ""
   ]
  }
 ],
 "metadata": {
  "kernelspec": {
   "display_name": "Python 2",
   "language": "python",
   "name": "python2"
  },
  "language_info": {
   "codemirror_mode": {
    "name": "ipython",
    "version": 2.0
   },
   "file_extension": ".py",
   "mimetype": "text/x-python",
   "name": "python",
   "nbconvert_exporter": "python",
   "pygments_lexer": "ipython2",
   "version": "2.7.6"
  }
 },
 "nbformat": 4,
 "nbformat_minor": 0
}