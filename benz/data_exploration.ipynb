{
 "cells": [
  {
   "cell_type": "code",
   "execution_count": 2,
   "metadata": {
    "collapsed": true
   },
   "outputs": [
    {
     "name": "stdout",
     "output_type": "stream",
     "text": [
      "(4209, 377)\n"
     ]
    }
   ],
   "source": [
    "import numpy as np\n",
    "data=np.genfromtxt('/home/zzq/kaggle/benz/test.csv',delimiter=',')\n",
    "print data.shape"
   ]
  },
  {
   "cell_type": "code",
   "execution_count": 5,
   "metadata": {},
   "outputs": [
    {
     "name": "stdout",
     "output_type": "stream",
     "text": [
      "(4210, 378)\n"
     ]
    }
   ],
   "source": [
    "import numpy as np\n",
    "data=np.genfromtxt('train.csv',delimiter=',')\n",
    "print data.shape"
   ]
  },
  {
   "cell_type": "code",
   "execution_count": 6,
   "metadata": {},
   "outputs": [
    {
     "name": "stdout",
     "output_type": "stream",
     "text": [
      "265.32\n72.11\n"
     ]
    }
   ],
   "source": [
    "use_data=data[1:,1]\n",
    "max_=use_data.max()\n",
    "min_=use_data.min()\n",
    "print max_\n",
    "print min_"
   ]
  },
  {
   "cell_type": "code",
   "execution_count": 3,
   "metadata": {},
   "outputs": [],
   "source": [
    "for i in range(len(use_data)):\n",
    "    if use_data[i]==min_:\n",
    "        use_data[i]=0.0\n",
    "    else:\n",
    "        use_data[i]=(use_data[i]-min_)/(max_-min_)"
   ]
  },
  {
   "cell_type": "code",
   "execution_count": 4,
   "metadata": {},
   "outputs": [],
   "source": [
    "with open('train_normal','w') as my_file:\n",
    "    np.savetxt(my_file,use_data)"
   ]
  },
  {
   "cell_type": "code",
   "execution_count": 3,
   "metadata": {},
   "outputs": [],
   "source": [
    "test_tag=data[:,0]\n",
    "import random\n",
    "for i in range(4209):\n",
    "    for j in range(377):\n",
    "        if data[i][j]!=data[i][j]:\n",
    "            data[i][j]=random.uniform(0,1)"
   ]
  },
  {
   "cell_type": "code",
   "execution_count": 4,
   "metadata": {},
   "outputs": [],
   "source": [
    "test_feat=data[:,1:377]\n",
    "with open(\"/home/zzq/kaggle/benz/test_feature.csv\", \"w\") as my_file:\n",
    "    np.savetxt(my_file,test_feat,delimiter=',')"
   ]
  },
  {
   "cell_type": "code",
   "execution_count": 8,
   "metadata": {},
   "outputs": [],
   "source": [
    "test_tag=data[:,0]\n",
    "test_tag=test_tag.reshape(4209,1)\n",
    "with open(\"/home/zzq/kaggle/benz/test_tag\",'w') as test_tg:\n",
    "    np.savetxt(test_tg,test_tag,delimiter=',')"
   ]
  },
  {
   "cell_type": "code",
   "execution_count": 15,
   "metadata": {},
   "outputs": [
    {
     "name": "stdout",
     "output_type": "stream",
     "text": [
      "(4209,)\n"
     ]
    }
   ],
   "source": [
    "label=np.genfromtxt(\"/home/zzq/kaggle/benz/y_label\",delimiter=\",\")\n",
    "print label.shape"
   ]
  },
  {
   "cell_type": "code",
   "execution_count": 16,
   "metadata": {},
   "outputs": [
    {
     "name": "stdout",
     "output_type": "stream",
     "text": [
      "15.0\n"
     ]
    }
   ],
   "source": [
    "print label.max()"
   ]
  },
  {
   "cell_type": "code",
   "execution_count": 17,
   "metadata": {},
   "outputs": [
    {
     "name": "stdout",
     "output_type": "stream",
     "text": [
      "7.0\n"
     ]
    }
   ],
   "source": [
    "print label.min()"
   ]
  },
  {
   "cell_type": "code",
   "execution_count": 18,
   "metadata": {},
   "outputs": [],
   "source": [
    "one_hot=np.zeros((4209,9))\n",
    "for i in range(4209):\n",
    "    one_hot[i][int(label[i])-7]=1"
   ]
  },
  {
   "cell_type": "code",
   "execution_count": 20,
   "metadata": {},
   "outputs": [],
   "source": [
    "with open(\"/home/zzq/kaggle/benz/one_hot\",'w') as one_hot_file:\n",
    "    np.savetxt(one_hot_file,one_hot,delimiter=\",\")"
   ]
  },
  {
   "cell_type": "code",
   "execution_count": 21,
   "metadata": {},
   "outputs": [
    {
     "name": "stdout",
     "output_type": "stream",
     "text": [
      "(4209,)\n"
     ]
    }
   ],
   "source": [
    "time_tag=np.genfromtxt(\"/home/zzq/kaggle/benz/test_tag\",delimiter=',')\n",
    "print time_tag.shape"
   ]
  },
  {
   "cell_type": "code",
   "execution_count": null,
   "metadata": {},
   "outputs": [],
   "source": [
    ""
   ]
  }
 ],
 "metadata": {
  "kernelspec": {
   "display_name": "Python 2",
   "language": "python",
   "name": "python2"
  },
  "language_info": {
   "codemirror_mode": {
    "name": "ipython",
    "version": 2.0
   },
   "file_extension": ".py",
   "mimetype": "text/x-python",
   "name": "python",
   "nbconvert_exporter": "python",
   "pygments_lexer": "ipython2",
   "version": "2.7.6"
  }
 },
 "nbformat": 4,
 "nbformat_minor": 0
}