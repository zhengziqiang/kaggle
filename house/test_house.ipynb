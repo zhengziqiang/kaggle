{
 "cells": [
  {
   "cell_type": "code",
   "execution_count": 1,
   "metadata": {
    "collapsed": true
   },
   "outputs": [],
   "source": [
    "import os\n",
    "def write(ans,num_ans):\n",
    "    if os.path.isfile(ans):\n",
    "        os.remove(ans)\n",
    "    test=open('/home/zzq/kaggle/house/test.csv').readlines()\n",
    "    for i in range(1,len(test)):\n",
    "        lin=test[i].strip('\\n')\n",
    "        lin_=lin.split(',')\n",
    "        test_dest=file('/home/zzq/kaggle/house/test_time','a+')\n",
    "        test_dest.write(lin_[1]+'\\n')\n",
    "        test_dest.close()\n",
    "    \n",
    "    if os.path.isfile('/home/zzq/kaggle/house/test_tag'):\n",
    "        os.remove('/home/zzq/kaggle/house/test_tag')\n",
    "    time_tag=[]\n",
    "    for i in range(1,len(test)):\n",
    "        lin=test[i].strip('\\n')\n",
    "        lin_=lin.split(',')\n",
    "        test_dest=file('/home/zzq/kaggle/house/test_tag','a+')\n",
    "        test_dest.write(lin_[0]+'\\n')\n",
    "        time_tag.append(int(lin_[0]))\n",
    "        test_dest.close()\n",
    "    \n",
    "    out=file(ans,'a+')\n",
    "    id_pro='id,price_doc\\n'\n",
    "    out.write(id_pro)\n",
    "    out.close()\n",
    "    for i in range(len(time_tag)):\n",
    "        out=file(ans,'a+')\n",
    "        xian=str(time_tag[i])+','+'%.2f'%num_ans[i]+'\\n'\n",
    "        out.write(xian)\n",
    "        out.close()"
   ]
  },
  {
   "cell_type": "code",
   "execution_count": null,
   "metadata": {
    "collapsed": true
   },
   "outputs": [],
   "source": []
  }
 ],
 "metadata": {
  "kernelspec": {
   "display_name": "Python 2",
   "language": "python",
   "name": "python2"
  },
  "language_info": {
   "codemirror_mode": {
    "name": "ipython",
    "version": 2
   },
   "file_extension": ".py",
   "mimetype": "text/x-python",
   "name": "python",
   "nbconvert_exporter": "python",
   "pygments_lexer": "ipython2",
   "version": "2.7.12"
  }
 },
 "nbformat": 4,
 "nbformat_minor": 2
}
