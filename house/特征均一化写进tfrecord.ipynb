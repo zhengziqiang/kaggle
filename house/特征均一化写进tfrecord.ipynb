{
 "cells": [
  {
   "cell_type": "code",
   "execution_count": 1,
   "metadata": {
    "collapsed": true
   },
   "outputs": [],
   "source": [
    "import os\n",
    "import matplotlib.pyplot as plt\n",
    "import numpy as np"
   ]
  },
  {
   "cell_type": "code",
   "execution_count": 8,
   "metadata": {
    "collapsed": false
   },
   "outputs": [],
   "source": [
    "all_lines=open('/home/zzq/kaggle/house/train.csv').readlines()\n",
    "feature=np.zeros((30471,138))\n",
    "for i in range(1,len(all_lines)):\n",
    "    line=all_lines[i].strip('\\n')\n",
    "    lin=line.split(',')\n",
    "    for j in range(153,291):\n",
    "        if lin[j]=='good':\n",
    "            feature[i-1][j-153]=0\n",
    "        elif lin[j]=='NA':\n",
    "            feature[i-1][j-153]=0\n",
    "        else:\n",
    "            feature[i-1][j-153]=float(lin[j])"
   ]
  },
  {
   "cell_type": "code",
   "execution_count": 9,
   "metadata": {
    "collapsed": false
   },
   "outputs": [
    {
     "name": "stdout",
     "output_type": "stream",
     "text": [
      "30471 138\n"
     ]
    }
   ],
   "source": [
    "max_=feature.max(axis=0)\n",
    "min_=feature.min(axis=0)\n",
    "m,n=np.shape(feature)\n",
    "print m,n"
   ]
  },
  {
   "cell_type": "code",
   "execution_count": 10,
   "metadata": {
    "collapsed": true
   },
   "outputs": [],
   "source": [
    "for i in range(m):\n",
    "    for j in range(n):\n",
    "        if feature[i][j]==max_[j] :\n",
    "            feature[i][j]=1.0\n",
    "        else:\n",
    "            feature[i][j]=(float(feature[i][j])-float(min_[j]))/(float(max_[j])-float(min_[j]))"
   ]
  },
  {
   "cell_type": "code",
   "execution_count": 11,
   "metadata": {
    "collapsed": false
   },
   "outputs": [
    {
     "name": "stdout",
     "output_type": "stream",
     "text": [
      "[[ 0.          0.          0.         ...,  0.          0.23853211\n",
      "   0.19047619]\n",
      " [ 0.2514      0.          0.         ...,  0.09433962  0.30275229\n",
      "   0.66666667]\n",
      " [ 0.0167      0.          0.         ...,  0.03773585  0.30733945\n",
      "   0.47619048]\n",
      " ..., \n",
      " [ 0.0333      0.03746077  0.         ...,  0.00943396  0.05045872\n",
      "   0.04761905]\n",
      " [ 0.1485      0.          0.         ...,  0.03773585  0.29816514\n",
      "   0.33333333]\n",
      " [ 0.          0.01275691  0.         ...,  0.08490566  0.24770642\n",
      "   0.47619048]]\n"
     ]
    }
   ],
   "source": [
    "print feature"
   ]
  },
  {
   "cell_type": "code",
   "execution_count": 15,
   "metadata": {
    "collapsed": true
   },
   "outputs": [],
   "source": [
    "def write_feature(feature,m,n):\n",
    "    if os.path.isfile('/home/zzq/kaggle/house/feartures/feature_normal_154_291.csv'):\n",
    "        os.remove('/home/zzq/kaggle/house/feartures/feature_normal_154_291.csv')\n",
    "    for i in range(m):\n",
    "        xian='No_'+str(i)+','\n",
    "        for j in range(n):\n",
    "            if j==137:\n",
    "                xian=xian+str(feature[i][j])+'\\n'\n",
    "            else:\n",
    "                xian=xian+str(feature[i][j])+','\n",
    "        out=file('/home/zzq/kaggle/house/feartures/feature_normal_154_291.csv','a+')\n",
    "        out.write(xian)\n",
    "        out.close()"
   ]
  },
  {
   "cell_type": "code",
   "execution_count": 16,
   "metadata": {
    "collapsed": true
   },
   "outputs": [],
   "source": [
    "write_feature(feature,m,n)"
   ]
  },
  {
   "cell_type": "code",
   "execution_count": 17,
   "metadata": {
    "collapsed": true
   },
   "outputs": [],
   "source": [
    "import tensorflow as tf\n",
    "import math"
   ]
  },
  {
   "cell_type": "code",
   "execution_count": 18,
   "metadata": {
    "collapsed": false
   },
   "outputs": [
    {
     "name": "stdout",
     "output_type": "stream",
     "text": [
      "<type 'float'>\n"
     ]
    }
   ],
   "source": [
    "demo=12.34\n",
    "print type(demo)"
   ]
  },
  {
   "cell_type": "code",
   "execution_count": 25,
   "metadata": {
    "collapsed": false
   },
   "outputs": [],
   "source": [
    "demo_np=np.zeros((4,3))\n",
    "OUT=file('/home/zzq/kaggle/house/feartures/np_array.csv','a+')\n",
    "OUT.write(demo_np)\n",
    "OUT.write(','+'2'+'\\n')\n",
    "OUT.close()"
   ]
  },
  {
   "cell_type": "code",
   "execution_count": 29,
   "metadata": {
    "collapsed": false
   },
   "outputs": [
    {
     "name": "stdout",
     "output_type": "stream",
     "text": [
      "['\\x00\\x00\\x00\\x00\\x00\\x00\\x00\\x00\\x00\\x00\\x00\\x00\\x00\\x00\\x00\\x00\\x00\\x00\\x00\\x00\\x00\\x00\\x00\\x00\\x00\\x00\\x00\\x00\\x00\\x00\\x00\\x00\\x00\\x00\\x00\\x00\\x00\\x00\\x00\\x00\\x00\\x00\\x00\\x00\\x00\\x00\\x00\\x00\\x00\\x00\\x00\\x00\\x00\\x00\\x00\\x00\\x00\\x00\\x00\\x00\\x00\\x00\\x00\\x00\\x00\\x00\\x00\\x00\\x00\\x00\\x00\\x00\\x00\\x00\\x00\\x00\\x00\\x00\\x00\\x00\\x00\\x00\\x00\\x00\\x00\\x00\\x00\\x00\\x00\\x00\\x00\\x00\\x00\\x00\\x00\\x00', '2']\n",
      "\u0000\u0000\u0000\u0000\u0000\u0000\u0000\u0000\u0000\u0000\u0000\u0000\u0000\u0000\u0000\u0000\u0000\u0000\u0000\u0000\u0000\u0000\u0000\u0000\u0000\u0000\u0000\u0000\u0000\u0000\u0000\u0000\u0000\u0000\u0000\u0000\u0000\u0000\u0000\u0000\u0000\u0000\u0000\u0000\u0000\u0000\u0000\u0000\u0000\u0000\u0000\u0000\u0000\u0000\u0000\u0000\u0000\u0000\u0000\u0000\u0000\u0000\u0000\u0000\u0000\u0000\u0000\u0000\u0000\u0000\u0000\u0000\u0000\u0000\u0000\u0000\u0000\u0000\u0000\u0000\u0000\u0000\u0000\u0000\u0000\u0000\u0000\u0000\u0000\u0000\u0000\u0000\u0000\u0000\u0000\u0000\n"
     ]
    }
   ],
   "source": [
    "al=open('/home/zzq/kaggle/house/feartures/np_array.csv').readlines()\n",
    "al_=al[0].strip('\\n')\n",
    "al__=al_.split(',')\n",
    "img=al__[0]\n",
    "print al__\n",
    "print img"
   ]
  },
  {
   "cell_type": "code",
   "execution_count": 30,
   "metadata": {
    "collapsed": false
   },
   "outputs": [
    {
     "name": "stdout",
     "output_type": "stream",
     "text": [
      "4\n"
     ]
    }
   ],
   "source": [
    "zzq=np.zeros((4,5))\n",
    "print len(zzq)"
   ]
  },
  {
   "cell_type": "code",
   "execution_count": 40,
   "metadata": {
    "collapsed": true
   },
   "outputs": [],
   "source": [
    "def save_as_tfrecord(name):\n",
    "    \"\"\"Converts a dataset to tfrecords.\"\"\"\n",
    "    images=np.zeros((4,5))\n",
    "    labels=np.ones(4)\n",
    "    print type(images)\n",
    "    if len(images) != len(labels):\n",
    "        raise ValueError('Images size %d does not match label size %d.' %\n",
    "                          (images.shape[0], len(labels)))\n",
    "    file_name = name+'.tfrecords'\n",
    "    print 'Writing: '+file_name\n",
    "    with tf.python_io.TFRecordWriter(os.path.join('/home/zzq/kaggle/house/feartures', file_name)) as TFWriter:\n",
    "        for index in range(len(images)):\n",
    "            image_raw = images[index].tostring()\n",
    "            example = tf.train.Example(\n",
    "                features=tf.train.Features(\n",
    "                    feature={'label': tf.train.Feature(float_list=tf.train.FloatList(value=[labels[index]])),\n",
    "                             'image': tf.train.Feature(float_list=tf.train.FloatList(value=[image_raw]))\n",
    "                              }))\n",
    "            TFWriter.write(example.SerializeToString())"
   ]
  },
  {
   "cell_type": "code",
   "execution_count": 41,
   "metadata": {
    "collapsed": false
   },
   "outputs": [
    {
     "name": "stdout",
     "output_type": "stream",
     "text": [
      "<type 'numpy.ndarray'>\n",
      "Writing: zzq.tfrecords\n"
     ]
    },
    {
     "ename": "TypeError",
     "evalue": "'\\x00\\x00\\x00\\x00\\x00\\x00\\x00\\x00\\x00\\x00\\x00\\x00\\x00\\x00\\x00\\x00\\x00\\x00\\x00\\x00\\x00\\x00\\x00\\x00\\x0 has type str, but expected one of: int, long, float",
     "traceback": [
      "\u001b[0;31m---------------------------------------------------------------------------\u001b[0m",
      "\u001b[0;31mTypeError\u001b[0m                                 Traceback (most recent call last)",
      "\u001b[0;32m<ipython-input-41-e2dab9673154>\u001b[0m in \u001b[0;36m<module>\u001b[0;34m()\u001b[0m\n\u001b[0;32m----> 1\u001b[0;31m \u001b[0msave_as_tfrecord\u001b[0m\u001b[0;34m(\u001b[0m\u001b[0;34m'zzq'\u001b[0m\u001b[0;34m)\u001b[0m\u001b[0;34m\u001b[0m\u001b[0m\n\u001b[0m",
      "\u001b[0;32m<ipython-input-40-4ef432dcd637>\u001b[0m in \u001b[0;36msave_as_tfrecord\u001b[0;34m(name)\u001b[0m\n\u001b[1;32m     15\u001b[0m                 features=tf.train.Features(\n\u001b[1;32m     16\u001b[0m                     feature={'label': tf.train.Feature(float_list=tf.train.FloatList(value=[labels[index]])),\n\u001b[0;32m---> 17\u001b[0;31m                              \u001b[0;34m'image'\u001b[0m\u001b[0;34m:\u001b[0m \u001b[0mtf\u001b[0m\u001b[0;34m.\u001b[0m\u001b[0mtrain\u001b[0m\u001b[0;34m.\u001b[0m\u001b[0mFeature\u001b[0m\u001b[0;34m(\u001b[0m\u001b[0mfloat_list\u001b[0m\u001b[0;34m=\u001b[0m\u001b[0mtf\u001b[0m\u001b[0;34m.\u001b[0m\u001b[0mtrain\u001b[0m\u001b[0;34m.\u001b[0m\u001b[0mFloatList\u001b[0m\u001b[0;34m(\u001b[0m\u001b[0mvalue\u001b[0m\u001b[0;34m=\u001b[0m\u001b[0;34m[\u001b[0m\u001b[0mimage_raw\u001b[0m\u001b[0;34m]\u001b[0m\u001b[0;34m)\u001b[0m\u001b[0;34m)\u001b[0m\u001b[0;34m\u001b[0m\u001b[0m\n\u001b[0m\u001b[1;32m     18\u001b[0m                               }))\n\u001b[1;32m     19\u001b[0m             \u001b[0mTFWriter\u001b[0m\u001b[0;34m.\u001b[0m\u001b[0mwrite\u001b[0m\u001b[0;34m(\u001b[0m\u001b[0mexample\u001b[0m\u001b[0;34m.\u001b[0m\u001b[0mSerializeToString\u001b[0m\u001b[0;34m(\u001b[0m\u001b[0;34m)\u001b[0m\u001b[0;34m)\u001b[0m\u001b[0;34m\u001b[0m\u001b[0m\n",
      "\u001b[0;31mTypeError\u001b[0m: '\\x00\\x00\\x00\\x00\\x00\\x00\\x00\\x00\\x00\\x00\\x00\\x00\\x00\\x00\\x00\\x00\\x00\\x00\\x00\\x00\\x00\\x00\\x00\\x00\\x0 has type str, but expected one of: int, long, float"
     ],
     "output_type": "error"
    }
   ],
   "source": [
    "save_as_tfrecord('zzq')"
   ]
  },
  {
   "cell_type": "code",
   "execution_count": 46,
   "metadata": {
    "collapsed": false
   },
   "outputs": [],
   "source": [
    "import numpy\n",
    "writer = tf.python_io.TFRecordWriter('/home/zzq/kaggle/house/feartures/test.tfrecord')\n",
    "b=numpy.array([1,2])\n",
    "c = numpy.array([[0, 1, 2],[3, 4, 5]])\n",
    "c_raw = c.tostring()\n",
    "example = tf.train.Example(\n",
    "        features = tf.train.Features(\n",
    "            feature = {'b':tf.train.Feature(int64_list = tf.train.Int64List(value = b)),\n",
    "                       'c':tf.train.Feature(bytes_list = tf.train.BytesList(value = [c_raw]))}))\n",
    "serialized = example.SerializeToString()\n",
    "writer.write(serialized)\n",
    "writer.close()"
   ]
  },
  {
   "cell_type": "code",
   "execution_count": 47,
   "metadata": {
    "collapsed": true
   },
   "outputs": [],
   "source": [
    "# output file name string to a queue\n",
    "filename_queue = tf.train.string_input_producer(['/home/zzq/kaggle/house/feartures/test.tfrecord'], num_epochs=None)\n",
    "# create a reader from file queue\n",
    "reader = tf.TFRecordReader()\n",
    "_, serialized_example = reader.read(filename_queue)\n",
    "# get feature from serialized example\n",
    "\n",
    "features = tf.parse_single_example(serialized_example,\n",
    "        features={\n",
    "            'a': tf.FixedLenFeature([], tf.float32),\n",
    "            'b': tf.FixedLenFeature([2], tf.int64),\n",
    "            'c': tf.FixedLenFeature([], tf.string)\n",
    "        }\n",
    "    )"
   ]
  },
  {
   "cell_type": "code",
   "execution_count": 48,
   "metadata": {
    "collapsed": true
   },
   "outputs": [],
   "source": [
    "a_out = features['a']\n",
    "b_out = features['b']\n",
    "c_raw_out = features['c']\n",
    "c_out = tf.decode_raw(c_raw_out, tf.uint8)\n",
    "c_out = tf.reshape(c_out, [2, 3])"
   ]
  },
  {
   "cell_type": "code",
   "execution_count": 49,
   "metadata": {
    "collapsed": false
   },
   "outputs": [
    {
     "name": "stdout",
     "output_type": "stream",
     "text": [
      "Tensor(\"ParseSingleExample/Squeeze_a:0\", shape=(), dtype=float32)\n",
      "Tensor(\"ParseSingleExample/Squeeze_b:0\", shape=(2,), dtype=int64)\n",
      "Tensor(\"Reshape:0\", shape=(2, 3), dtype=uint8)\n"
     ]
    }
   ],
   "source": [
    "print a_out\n",
    "print b_out\n",
    "print c_out"
   ]
  },
  {
   "cell_type": "code",
   "execution_count": 50,
   "metadata": {
    "collapsed": true
   },
   "outputs": [],
   "source": [
    "writer = tf.python_io.TFRecordWriter('/home/zzq/kaggle/house/feartures/feature_140.tfrecord')\n",
    "labels=open('/home/zzq/kaggle/house/label_cls20').readlines()\n",
    "label=np.zeros((30471))\n",
    "for i in range(len(labels)):\n",
    "    line=labels[i].strip('\\n')\n",
    "    label[i]=int(line)"
   ]
  },
  {
   "cell_type": "code",
   "execution_count": 54,
   "metadata": {
    "collapsed": false
   },
   "outputs": [
    {
     "name": "stdout",
     "output_type": "stream",
     "text": [
      "<type 'numpy.float64'>\n",
      "float64\n",
      "int64\n"
     ]
    }
   ],
   "source": [
    "print type(label[2])\n",
    "print label.dtype\n",
    "int_label=label.astype(np.int64)\n",
    "print int_label.dtype"
   ]
  },
  {
   "cell_type": "code",
   "execution_count": 55,
   "metadata": {
    "collapsed": false
   },
   "outputs": [],
   "source": [
    "writer = tf.python_io.TFRecordWriter('/home/zzq/kaggle/house/feartures/feature_140.tfrecord')\n",
    "feature_raw = feature.tostring()\n",
    "example = tf.train.Example(\n",
    "        features = tf.train.Features(\n",
    "            feature = {'label':tf.train.Feature(int64_list = tf.train.Int64List(value = int_label)),\n",
    "                       'feature':tf.train.Feature(bytes_list = tf.train.BytesList(value = [feature_raw]))}))\n",
    "serialized = example.SerializeToString()\n",
    "writer.write(serialized)\n",
    "writer.close()"
   ]
  },
  {
   "cell_type": "code",
   "execution_count": null,
   "metadata": {
    "collapsed": true
   },
   "outputs": [],
   "source": [
    ""
   ]
  }
 ],
 "metadata": {
  "kernelspec": {
   "display_name": "Python 2",
   "language": "python",
   "name": "python2"
  },
  "language_info": {
   "codemirror_mode": {
    "name": "ipython",
    "version": 2.0
   },
   "file_extension": ".py",
   "mimetype": "text/x-python",
   "name": "python",
   "nbconvert_exporter": "python",
   "pygments_lexer": "ipython2",
   "version": "2.7.12"
  }
 },
 "nbformat": 4,
 "nbformat_minor": 0
}